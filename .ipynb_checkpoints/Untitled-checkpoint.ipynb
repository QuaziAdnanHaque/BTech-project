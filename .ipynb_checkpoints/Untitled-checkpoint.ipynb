{
 "cells": [
  {
   "cell_type": "code",
   "execution_count": 1,
   "id": "2a9fcf70",
   "metadata": {},
   "outputs": [],
   "source": [
    "import matplotlib.pyplot as plt\n",
    "import numpy as np\n",
    "import cv2\n",
    "import os\n",
    "import PIL\n",
    "import tensorflow as tf\n",
    "from tensorflow import keras\n",
    "from tensorflow.keras import layers\n",
    "from tensorflow.keras.models import Sequential"
   ]
  },
  {
   "cell_type": "markdown",
   "id": "a29bd5ce",
   "metadata": {},
   "source": [
    "# Loading Dataset"
   ]
  },
  {
   "cell_type": "code",
   "execution_count": 2,
   "id": "5e343769",
   "metadata": {},
   "outputs": [],
   "source": [
    "data_dir = \"C:\\FINAL YEAR PROJECT\\digits\""
   ]
  },
  {
   "cell_type": "code",
   "execution_count": 3,
   "id": "ce590d85",
   "metadata": {},
   "outputs": [
    {
     "data": {
      "text/plain": [
       "WindowsPath('C:/FINAL YEAR PROJECT/digits')"
      ]
     },
     "execution_count": 3,
     "metadata": {},
     "output_type": "execute_result"
    }
   ],
   "source": [
    "import pathlib\n",
    "data_dir = pathlib.Path(data_dir)\n",
    "data_dir"
   ]
  },
  {
   "cell_type": "code",
   "execution_count": 4,
   "id": "7a7eef28",
   "metadata": {},
   "outputs": [],
   "source": [
    "digit_images_dict = {\n",
    "    'zero': list(data_dir.glob('0/*')),\n",
    "    'one': list(data_dir.glob('1/*')),\n",
    "    'two': list(data_dir.glob('2/*')),\n",
    "    'three': list(data_dir.glob('3/*')),\n",
    "    'four': list(data_dir.glob('4/*')),\n",
    "    'five': list(data_dir.glob('5/*')),\n",
    "    'six': list(data_dir.glob('6/*')),\n",
    "    'seven': list(data_dir.glob('7/*')),\n",
    "    'eight': list(data_dir.glob('8/*')),\n",
    "    'nine': list(data_dir.glob('9/*')),\n",
    "}"
   ]
  },
  {
   "cell_type": "code",
   "execution_count": 5,
   "id": "2457ee3b",
   "metadata": {},
   "outputs": [],
   "source": [
    "digit_labels_dict = {\n",
    "    'zero': 0,\n",
    "    'one': 1,\n",
    "    'two': 2,\n",
    "    'three': 3,\n",
    "    'four': 4,\n",
    "    'five': 5,\n",
    "    'six': 6,\n",
    "    'seven': 7,\n",
    "    'eight': 8,\n",
    "    'nine': 9,\n",
    "}"
   ]
  },
  {
   "cell_type": "code",
   "execution_count": 6,
   "id": "055709c1",
   "metadata": {},
   "outputs": [],
   "source": [
    "X, y = [], []\n",
    "\n",
    "for digit, images in digit_images_dict.items():\n",
    "    for image in images:\n",
    "        img = cv2.imread(str(image),cv2.IMREAD_GRAYSCALE)\n",
    "        resized_img = cv2.resize(img,(180,180))\n",
    "        X.append(resized_img)\n",
    "        y.append(digit_labels_dict[digit])"
   ]
  },
  {
   "cell_type": "code",
   "execution_count": 7,
   "id": "d655fc6d",
   "metadata": {},
   "outputs": [],
   "source": [
    "X = np.array(X)\n",
    "y = np.array(y)"
   ]
  },
  {
   "cell_type": "code",
   "execution_count": 8,
   "id": "0978b6ee",
   "metadata": {},
   "outputs": [],
   "source": [
    "from sklearn.model_selection import train_test_split\n",
    "X_train, X_test, y_train, y_test = train_test_split(X, y, random_state=0)"
   ]
  },
  {
   "cell_type": "code",
   "execution_count": 9,
   "id": "27916a82",
   "metadata": {},
   "outputs": [],
   "source": [
    "X_train_scaled = X_train / 255\n",
    "X_test_scaled = X_test / 255"
   ]
  },
  {
   "cell_type": "code",
   "execution_count": 10,
   "id": "e212dc16",
   "metadata": {},
   "outputs": [],
   "source": [
    "data_augmentation = keras.Sequential([\n",
    "    tf.keras.layers.RandomBrightness(0.2),\n",
    "    tf.keras.layers.RandomContrast(0.1),\n",
    "    tf.keras.layers.RandomCrop(0.5,0.2),\n",
    "    tf.keras.layers.RandomFlip(1),\n",
    "    tf.keras.layers.RandomHeight(0.1),\n",
    "    tf.keras.layers.RandomRotation(0.1),\n",
    "    tf.keras.layers.RandomZoom(0.1),\n",
    "    tf.keras.layers.RandomWidth(0.5),\n",
    "])"
   ]
  },
  {
   "cell_type": "markdown",
   "id": "408923ea",
   "metadata": {},
   "source": [
    "# Building the model"
   ]
  },
  {
   "cell_type": "code",
   "execution_count": 30,
   "id": "1c20bc49",
   "metadata": {
    "scrolled": true
   },
   "outputs": [
    {
     "ename": "AttributeError",
     "evalue": "'tuple' object has no attribute 'compile'",
     "output_type": "error",
     "traceback": [
      "\u001b[1;31m---------------------------------------------------------------------------\u001b[0m",
      "\u001b[1;31mAttributeError\u001b[0m                            Traceback (most recent call last)",
      "Cell \u001b[1;32mIn[30], line 37\u001b[0m\n\u001b[0;32m      1\u001b[0m model \u001b[38;5;241m=\u001b[39m Sequential([\n\u001b[0;32m      2\u001b[0m     data_augmentation,\n\u001b[0;32m      3\u001b[0m     \u001b[38;5;66;03m#first block\u001b[39;00m\n\u001b[1;32m   (...)\u001b[0m\n\u001b[0;32m     35\u001b[0m         layers\u001b[38;5;241m.\u001b[39mDense(\u001b[38;5;241m10\u001b[39m, activation\u001b[38;5;241m=\u001b[39m\u001b[38;5;124m'\u001b[39m\u001b[38;5;124msoftmax\u001b[39m\u001b[38;5;124m'\u001b[39m)\n\u001b[0;32m     36\u001b[0m ]),\n\u001b[1;32m---> 37\u001b[0m model\u001b[38;5;241m.\u001b[39mcompile(optimizer\u001b[38;5;241m=\u001b[39m\u001b[38;5;124m'\u001b[39m\u001b[38;5;124madam\u001b[39m\u001b[38;5;124m'\u001b[39m,\n\u001b[0;32m     38\u001b[0m               loss\u001b[38;5;241m=\u001b[39mtf\u001b[38;5;241m.\u001b[39mkeras\u001b[38;5;241m.\u001b[39mlosses\u001b[38;5;241m.\u001b[39mSparseCategoricalCrossentropy(from_logits\u001b[38;5;241m=\u001b[39m\u001b[38;5;28;01mTrue\u001b[39;00m),\n\u001b[0;32m     39\u001b[0m               metrics\u001b[38;5;241m=\u001b[39m[\u001b[38;5;124m'\u001b[39m\u001b[38;5;124maccuracy\u001b[39m\u001b[38;5;124m'\u001b[39m])\n\u001b[0;32m     41\u001b[0m model\u001b[38;5;241m.\u001b[39mfit(X_train_scaled, y_train, epochs\u001b[38;5;241m=\u001b[39m\u001b[38;5;241m30\u001b[39m)\n",
      "\u001b[1;31mAttributeError\u001b[0m: 'tuple' object has no attribute 'compile'"
     ]
    }
   ],
   "source": [
    "model = Sequential([\n",
    "    data_augmentation,\n",
    "    #first block\n",
    "    layers.Conv2D(64, (3,3), padding='same', activation='relu'),\n",
    "    layers.Conv2D(64, (3,3), padding='same', activation='relu'),\n",
    "    layers.MaxPooling2D(2,2),\n",
    "    \n",
    "    #second block\n",
    "    layers.Conv2D(128, (3,3), padding='same', activation='relu'),\n",
    "        layers.Conv2D(128, (3,3), padding='same', activation='relu'),\n",
    "        layers.MaxPooling2D(2,2),\n",
    "    \n",
    "    #third block\n",
    "        layers.Conv2D(256, (3,3), padding='same', activation='relu'),\n",
    "        layers.Conv2D(256, (3,3), padding='same', activation='relu'),\n",
    "        layers.Conv2D(256, (3,3), padding='same', activation='relu'),\n",
    "        layers.MaxPooling2D(2,2),\n",
    "    \n",
    "    #forth block\n",
    "        layers.Conv2D(512, (3,3), padding='same', activation='relu'),\n",
    "        layers.Conv2D(512, (3,3), padding='same', activation='relu'),\n",
    "        layers.Conv2D(512, (3,3), padding='same', activation='relu'),\n",
    "        layers.MaxPooling2D(2,2),\n",
    "    \n",
    "    #fifth block\n",
    "        layers.Conv2D(512, (3,3), padding='same', activation='relu'),\n",
    "        layers.Conv2D(512, (3,3), padding='same', activation='relu'),\n",
    "        layers.Conv2D(512, (3,3), padding='same', activation='relu'),\n",
    "        layers.MaxPooling2D(2,2),\n",
    "    \n",
    "    #dense layer\n",
    "        layers.Flatten(),\n",
    "        layers.Dense(4096, activation='relu'),\n",
    "        layers.Dense(4096, activation='relu'),\n",
    "        layers.Dense(10, activation='softmax')\n",
    "]),\n",
    "model.compile(optimizer='adam',\n",
    "              loss=tf.keras.losses.SparseCategoricalCrossentropy(from_logits=True),\n",
    "              metrics=['accuracy'])\n",
    "              \n",
    "model.fit(X_train_scaled, y_train, epochs=30) "
   ]
  },
  {
   "cell_type": "code",
   "execution_count": 31,
   "id": "d3695f1b",
   "metadata": {},
   "outputs": [
    {
     "name": "stdout",
     "output_type": "stream",
     "text": [
      "<class 'tuple'>\n"
     ]
    }
   ],
   "source": [
    "print(type(model))"
   ]
  },
  {
   "cell_type": "code",
   "execution_count": null,
   "id": "3a801d74",
   "metadata": {},
   "outputs": [],
   "source": []
  }
 ],
 "metadata": {
  "kernelspec": {
   "display_name": "Python 3 (ipykernel)",
   "language": "python",
   "name": "python3"
  },
  "language_info": {
   "codemirror_mode": {
    "name": "ipython",
    "version": 3
   },
   "file_extension": ".py",
   "mimetype": "text/x-python",
   "name": "python",
   "nbconvert_exporter": "python",
   "pygments_lexer": "ipython3",
   "version": "3.11.5"
  }
 },
 "nbformat": 4,
 "nbformat_minor": 5
}
